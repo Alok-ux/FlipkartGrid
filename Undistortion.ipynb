{
 "cells": [
  {
   "cell_type": "code",
   "execution_count": 6,
   "metadata": {},
   "outputs": [],
   "source": [
    "import cv2\n",
    "import numpy as np\n",
    "\n",
    "DIM=(640, 480)\n",
    "K=np.array([[229.9246153265635, 0.0, 314.428988800173], [0.0, 290.66485570248454, 260.4539542481498], [0.0, 0.0, 1.0]])\n",
    "D=np.array([[0.08641197718114091], [0.4371779335438462], [-0.6076963882289408], [0.3968015718568842]])\n",
    "img = cv2.imread('Images/flex.jpeg')\n",
    "h,w = img.shape[:2]\n",
    "map1, map2 = cv2.fisheye.initUndistortRectifyMap(K, D, np.eye(3), K, DIM, cv2.CV_16SC2)\n",
    "undistorted_img = cv2.remap(img, map1, map2, interpolation=cv2.INTER_LINEAR, borderMode=cv2.BORDER_CONSTANT)\n",
    "cv2.imshow(\"undistorted image\", undistorted_img)\n",
    "cv2.imwrite('Undistorted.jpg',undistorted_img)\n",
    "cv2.waitKey(0)\n",
    "cv2.destroyAllWindows()"
   ]
  },
  {
   "cell_type": "code",
   "execution_count": null,
   "metadata": {},
   "outputs": [],
   "source": []
  },
  {
   "cell_type": "code",
   "execution_count": null,
   "metadata": {},
   "outputs": [],
   "source": []
  }
 ],
 "metadata": {
  "kernelspec": {
   "display_name": "Python 3",
   "language": "python",
   "name": "python3"
  },
  "language_info": {
   "codemirror_mode": {
    "name": "ipython",
    "version": 3
   },
   "file_extension": ".py",
   "mimetype": "text/x-python",
   "name": "python",
   "nbconvert_exporter": "python",
   "pygments_lexer": "ipython3",
   "version": "3.8.5"
  }
 },
 "nbformat": 4,
 "nbformat_minor": 4
}
